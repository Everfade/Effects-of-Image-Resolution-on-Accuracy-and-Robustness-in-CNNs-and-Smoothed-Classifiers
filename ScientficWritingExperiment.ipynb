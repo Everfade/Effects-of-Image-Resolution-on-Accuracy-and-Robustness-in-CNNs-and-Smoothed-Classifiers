{
 "cells": [
  {
   "cell_type": "code",
   "execution_count": 3,
   "id": "1f8c8481",
   "metadata": {},
   "outputs": [],
   "source": [
    "import pandas as pd\n",
    "import numpy as np\n",
    "import matplotlib.pyplot as plt\n",
    "from PIL import Image\n",
    "import PIL\n",
    "import tensorflow as tf\n",
    "from tensorflow.keras.preprocessing.image import img_to_array, load_img\n",
    "from scipy.stats import norm\n",
    "from tensorflow.keras.callbacks import TensorBoard\n",
    "from tensorflow.keras.callbacks import ModelCheckpoint\n",
    "import foolbox as fb"
    "from foolbox.attacks import FGSM"
    "from foolbox.criteria import Misclassification"
    "np.random.seed(1)\n",
    "tf.random.set_seed(1)\n",
    "\n",
    "\n",
    "#physical_devices=tf.config.list_physical_devices(\"GPU\")\n",
    "#tf.config.experimental.set_visible_devices(physical_devices[0], 'GPU')\n",
    "def load_data_Deprecated(name):\n",
    "    return pd.read_csv(\"D:/MachineLearningData/digitrecKaggle/\"+name)\n",
    "\n",
    "def load_data(path,scale,seed):\n",
    "    (x,y)=scale\n",
    "    train_ds= tf.keras.utils.image_dataset_from_directory(\n",
    "    path+\"/train\",\n",
    "    image_size=(x,y),\n",
    "    labels=\"inferred\",\n",
    "    shuffle=True,\n",
    "    subset=\"training\",\n",
    "    validation_split=0.2,\n",
    "    color_mode=\"grayscale\",\n",
    "    label_mode=\"int\",\n",
    "    seed=seed)\n",
    "    \n",
    "    train_ds_noise= tf.keras.utils.image_dataset_from_directory(\n",
    "    path+\"/trainNoise\",\n",
    "    image_size=(x,y),\n",
    "    labels=\"inferred\",\n",
    "    shuffle=True,\n",
    "    subset=\"training\",\n",
    "    validation_split=0.8,\n",
    "    color_mode=\"grayscale\",\n",
    "    label_mode=\"int\",\n",
    "    seed=seed)\n",
    "    \n",
    "    concatenated_train_dataset = train_ds_noise.concatenate(train_ds_noise)\n",
    "    \n",
    "    validation_ds= tf.keras.utils.image_dataset_from_directory(\n",
    "    path+\"/train\",\n",
    "    image_size=(x,y),\n",
    "    labels=\"inferred\",\n",
    "    shuffle=True,\n",
    "    subset=\"validation\",\n",
    "    validation_split=0.2,\n",
    "    color_mode=\"grayscale\",\n",
    "    label_mode=\"int\",\n",
    "    seed=seed)\n",
    "    test_ds= tf.keras.utils.image_dataset_from_directory(\n",
    "    path+\"/test\",\n",
    "    image_size=(x,y),\n",
    "    labels=\"inferred\",\n",
    "    shuffle=True,\n",
    "    validation_split=0,\n",
    "    color_mode=\"grayscale\",\n",
    "    label_mode=\"int\",\n",
    "    seed=seed)\n",
    "    return (concatenated_train_dataset, validation_ds,test_ds)\n",
    "    \n",
    "\n",
    "\n",
    "\n"
   ]
  },
  {
   "cell_type": "code",
   "execution_count": 4,
   "id": "517ae931",
   "metadata": {},
   "outputs": [],
   "source": [
    "def train_model(name,scale, epochs):\n",
    "    train_ds,validation_ds,test_ds=load_data(\"D:/MachineLearningData/MNSTP/mnist_p/\"+name,\n",
    "                                             (int(28*scale),int(28*scale)),1)\n",
    "    checkpoint = ModelCheckpoint(name+'.{epoch:02d}-{val_loss:.2f}.h5', \n",
    "                             save_weights_only=False,\n",
    "                             save_best_only=False,\n",
    "                             monitor='val_loss',\n",
    "                             mode='min',\n",
    "                             save_freq=1)\n",
    "    tensorboard=TensorBoard(log_dir=\"logs/\"+name)\n",
    "    labels=test_ds.class_names\n",
    "    model=tf.keras.Sequential([\n",
    "        tf.keras.layers.Rescaling(1./255),\n",
    "        tf.keras.layers.Conv2D(28*scale,(3,3),padding=\"same\",activation=\"relu\",\n",
    "                               input_shape=(28*scale, 28*scale,1)),\n",
    "        tf.keras.layers.Conv2D(64*scale,(3,3),padding=\"same\",activation=\"relu\"),\n",
    "        tf.keras.layers.Dropout(0.5),\n",
    "        tf.keras.layers.Flatten(),\n",
    "        tf.keras.layers.Dense(128*scale,activation=\"relu\"),\n",
    "        tf.keras.layers.Dense(len(labels),activation=\"softmax\")\n",
    "        ])\n",
    "\n",
    "    model.compile(loss=tf.keras.losses.SparseCategoricalCrossentropy(),\n",
    "                  optimizer=tf.keras.optimizers.Adam(), metrics=[\"accuracy\"])\n",
    "    hist=model.fit(train_ds, validation_data= validation_ds,epochs=epochs,verbose=1,callbacks=[tensorboard])\n",
    "    model.save('MNISTmodels/'+name)\n",
    "    return hist\n",
    "def test_Model(name,scale):\n",
    "    train_ds,validation_ds,test_ds=load_data(\"D:/MachineLearningData/MNSTP/mnist_p/\"+name,\n",
    "                                          (int(28*scale),int(28*scale)),1)\n",
    "    model=tf.keras.models.load_model(\"C:/Users/DSCIE/MNISTmodels/\"+name)\n",
    "    model.evaluate(test_ds)\n",
    "def add_noise(img,mean,epsilon, size):\n",
    "    (x,y)=size\n",
    "    img=img/255\n",
    "    n=np.random.normal(loc=mean,scale=epsilon,size=(x,y))\n",
    "    return (img+n)*255\n",
    "#returns accuracy AND loss similar to model.predict()\n",
    "def randomized_smoothing_full(model,input_data,labels,num_samples,epsilon,size):\n",
    "    counter=0\n",
    "    test_set_size=len(labels)\n",
    "    correct_predictions=0\n",
    "    x,y=size\n",
    "    #one_hot \n",
    "    y_true=tf.keras.utils.to_categorical(labels, num_classes=10).reshape(test_set_size,10)\n",
    "    y_pred=np.zeros(shape=(test_set_size,10))\n",
    "    #for every image\n",
    "    for index,data_point in enumerate(input_data):\n",
    "        counter+=1\n",
    "        if(counter%100==0):\n",
    "            print(counter)\n",
    "        predictions=np.zeros(shape=(10,10))\n",
    "        predicted_numbers=[]\n",
    "        noise = np.random.normal(0, epsilon, size=(num_samples, x, y))\n",
    "        # Add noise to input data\n",
    "        perturbed_data = data_point + noise\n",
    "        perturbed_data = perturbed_data.reshape(-1, x, y, 1)\n",
    "        # Make predictions\n",
    "        predictions = model.predict(perturbed_data, verbose=False)\n",
    "        # Get highest probability\n",
    "        predicted_numbers = np.argmax(predictions, axis=1)\n",
    "        #predicted value is the most commonly predicted numbmer\n",
    "        predicted_value=np.bincount(predicted_numbers).argmax()\n",
    "        if(predicted_value==labels[index]):\n",
    "                    correct_predictions+=1\n",
    "        #condense 10x10 to 1x10\n",
    "        averaged_predictions=np.mean(predictions,axis=0)\n",
    "        #print(averaged_predictions)\n",
    "        y_pred[index]=averaged_predictions\n",
    "\n",
    "    accuracy= correct_predictions/test_set_size\n",
    "    print(y_true.shape)\n",
    "    print(y_pred.shape)\n",
    "    loss_tensor=tf.keras.losses.categorical_crossentropy(y_true,y_pred)\n",
    "    loss=np.mean(loss_tensor.numpy())\n",
    "    return (accuracy,loss)\n",
    "def dataSetToNpArrays(data,size):\n",
    "    x,y=size\n",
    "    np_data= np.zeros(shape=(0, 0))\n",
    "    np_labels=np.zeros(shape=(0))\n",
    "    for index,elem in enumerate(data):\n",
    "        a,b=elem\n",
    "        np_data=np.append(np_data,a.numpy())\n",
    "        np_labels=np.append(np_labels,b.numpy())\n",
    "    np_data=np_data.reshape(-1,x,y)\n",
    "    return (np_data,np_labels)\n",
    "\n",
    "def randomized_smoothing_value(model,data_point,num_samples,epsilon,size):\n",
    "    x,y=size\n",
    "    predictions=np.zeros(shape=(10,10))\n",
    "    predicted_numbers=[]\n",
    "    noise = np.random.normal(0, epsilon, size=(num_samples, x, y))\n",
    "    #norm_noise =  (noise - noise.min()) * (255 - 0) / (noise.max() - noise.min()) + 0  \n",
    "    # Add noise to input data\n",
    "    perturbed_data = data_point + noise\n",
    "   # print(perturbed_data[0].shape)\n",
    "    #im = Image.fromarray(perturbed_data[0])\n",
    "    #im.show()\n",
    "    perturbed_data = perturbed_data.reshape(-1, x, y, 1)\n",
    "    predictions = model.predict(perturbed_data, verbose=False)\n",
    "    #Get highest probability\n",
    "    predicted_numbers = np.argmax(predictions, axis=1)\n",
    "    #predicted value is the most commonly predicted numbmer\n",
    "    #print(predicted_numbers)\n",
    "    predicted_value=np.bincount(predicted_numbers).argmax()\n",
    "    return predicted_value\n",
    " \n",
    "#print(str(np_labels[3]))\n",
    "#randomized_smoothing_value(model,np_data[3],100,256,(56,56)) \n"
   ]
  },
  {
   "cell_type": "code",
   "execution_count": 6,
   "id": "1181dcf1",
   "metadata": {},
   "outputs": [],
   "source": [
    "def test_robustness(model,input_data,labels,epsilon):\n",
    "    adversarial_images=[]\n",
    "    preprocessing =dict()\n",
    "    fmodel = fb.TensorFlowModel(model, bounds=(0, 255))\n",
    "    images=input_data\n",
    "    labels=labels\n",
    "    images= images.astype('float32')\n",
    "    images=images\n",
    "    im_tensor = tf.convert_to_tensor(images)\n",
    "    lab_tensor=tf.convert_to_tensor(labels)\n",
    "    lab_tensor = tf.cast(lab_tensor, dtype=tf.int32)\n",
    "    attack = fb.attacks.FGSM()\n",
    "    raw_advs, clipped_advs, success = attack(fmodel,im_tensor,\n",
    "                               criterion=Misclassification(lab_tensor),epsilons=epsilon)\n",
    "    return (raw_advs,clipped_advs,success)\n",
    "    \n",
    "def get_adverserials_and_accuracy(model,c,success,images,labels):\n",
    "    print(\"Evaluating model robustness\")\n",
    "    advsEx=[]\n",
    "    for a,i in enumerate(success):\n",
    "        if(i==True):\n",
    "            advsEx.append(a)\n",
    "    failure_rate=len(advsEx)/float( len(success))\n",
    "    print(\"Model Adv Accuracy: \" + str(1-failure_rate\n",
    "))\n",
    "    return advsEx\n",
    "\n",
    "def get_randomized_smoothing_adv_accuracy(model,advEx,clipped_advs,labels,samples,epislon,size):\n",
    "    print(\"Evaluating randomized smoothing robustness\")\n",
    "    correct_guesses=0;\n",
    "    for index in range(0,len(clipped_adv)):\n",
    "        ex=clipped_advs[index]\n",
    "        prediction=randomized_smoothing_value(model,ex,samples,epislon,size)\n",
    "        if(prediction== int(labels[index])):\n",
    "            correct_guesses+=1         \n",
    "      #  print(\"Predicted \"+str(prediction)+\" true \"+ str(labels[index])+\" at index \"+str(index))\n",
    "    return correct_guesses/len(labels)\n",
    "                                              \n",
    "                       "
   ]
  },
  {
   "cell_type": "markdown",
   "id": "fbf0c71e",
   "metadata": {},
   "source": [
    "## Tests  for the 6 CNNS and RSC"
   ]
  },
  {
   "cell_type": "code",
   "execution_count": 12,
   "id": "2c7bf31f",
   "metadata": {
    "scrolled": true
   },
   "outputs": [
    {
     "name": "stdout",
     "output_type": "stream",
     "text": [
      "Found 60000 files belonging to 10 classes.\n",
      "Using 48000 files for training.\n",
      "Found 60000 files belonging to 10 classes.\n",
      "Using 12000 files for training.\n",
      "Found 60000 files belonging to 10 classes.\n",
      "Using 12000 files for validation.\n",
      "Found 10000 files belonging to 10 classes.\n",
      "100\n",
      "200\n",
      "300\n",
      "400\n",
      "500\n",
      "600\n",
      "700\n",
      "800\n",
      "900\n",
      "1000\n",
      "(1000, 10)\n",
      "(1000, 10)\n",
      "rs_acc: 0.975\n",
      "rs_loss: 0.1964222480443159\n",
      "32/32 [==============================] - 4s 110ms/step - loss: 0.2463 - accuracy: 0.9750\n",
      "1000\n",
      "Evaluating model robustness\n",
      "Model Adv Accuracy: 0.916\n",
      "Evaluating randomized smoothing robustness\n",
      "Randomized Smoothing Adv. Accuracy: 0.916\n"
     ]
    }
   ],
   "source": [
    "\n",
    "train_ds,x,test_ds=load_data(\"D:/MachineLearningData/MNSTP/mnist_p/Upscaled\",(56,56),1)\n",
    "np_data,np_labels=dataSetToNpArrays(test_ds,(56,56))\n",
    "model=tf.keras.models.load_model(\"C:/Users/DSCIE/MNISTmodels/Upscaled\")\n",
    "(a,l)=randomized_smoothing_full(model,np_data[0:1000],np_labels[0:1000],10,0.15,(56,56))\n",
    "print(\"rs_acc: \"+str(a))\n",
    "print(\"rs_loss: \"+str(l))\n",
    "model.evaluate(np_data[0:1000],np_labels[0:1000])\n",
    "r,clipped_adv,success=test_robustness(model,np_data[0:1000],np_labels[0:1000],10)\n",
    "clipped_adv_np=clipped_adv.numpy()\n",
    "print(len(clipped_adv_np))\n",
    "advsEx=get_adverserials_and_accuracy(model,clipped_adv_np,success,np_data[0:1000],np_labels[0:1000])\n",
    "rand_adv_acc=get_randomized_smoothing_adv_accuracy(model,advsEx,clipped_adv_np,np_labels[0:1000],\n",
    "                                                   10,0.15,(56,56))\n",
    "print(\"Randomized Smoothing Adv. Accuracy: \"+ str(rand_adv_acc))\n",
    "\n",
    "\n",
    "\n",
    "\n"
   ]
  },
  {
   "cell_type": "code",
   "execution_count": 8,
   "id": "2709ee83",
   "metadata": {
    "scrolled": false
   },
   "outputs": [
    {
     "name": "stdout",
     "output_type": "stream",
     "text": [
      "Found 60000 files belonging to 10 classes.\n",
      "Using 48000 files for training.\n",
      "Found 60000 files belonging to 10 classes.\n",
      "Using 12000 files for training.\n",
      "Found 60000 files belonging to 10 classes.\n",
      "Using 12000 files for validation.\n",
      "Found 10000 files belonging to 10 classes.\n",
      "100\n",
      "200\n",
      "300\n",
      "400\n",
      "500\n",
      "600\n",
      "700\n",
      "800\n",
      "900\n",
      "1000\n",
      "(1000, 10)\n",
      "(1000, 10)\n",
      "rs_acc: 0.975\n",
      "rs_loss: 0.20452173590553174\n",
      "32/32 [==============================] - 3s 97ms/step - loss: 0.2163 - accuracy: 0.9750\n",
      "1000\n",
      "Evaluating model robustness\n",
      "Model Adv Accuracy: 0.961\n",
      "Evaluating randomized smoothing robustness\n",
      "Randomized Smoothing Adv. Accuracy: 0.961\n"
     ]
    }
   ],
   "source": [
    "\n",
    "train_ds,x,test_ds=load_data(\"D:/MachineLearningData/MNSTP/mnist_p/Upscaled\",(56,56),1)\n",
    "np_data,np_labels=dataSetToNpArrays(test_ds,(56,56))#names=[(\"Normal\",28),(\"ControlSmall\",56),(\"UpscaledSmall\",56),(\"Downsclaed\",14)] \n",
    "model=tf.keras.models.load_model(\"C:/Users/DSCIE/MNISTmodels/UpscaledSmall\")\n",
    "(a,l)=randomized_smoothing_full(model,np_data[0:1000],np_labels[0:1000],10,0.15,(56,56))\n",
    "print(\"rs_acc: \"+str(a))\n",
    "print(\"rs_loss: \"+str(l))\n",
    "model.evaluate(np_data[0:1000],np_labels[0:1000])\n",
    "r,clipped_adv,success=test_robustness(model,np_data[0:1000],np_labels[0:1000],2)\n",
    "clipped_adv_np=clipped_adv.numpy()\n",
    "print(len(clipped_adv_np))\n",
    "advsEx=get_adverserials_and_accuracy(model,clipped_adv_np,success,np_data[0:1000],np_labels[0:1000])\n",
    "rand_adv_acc=get_randomized_smoothing_adv_accuracy(model,advsEx,clipped_adv_np,np_labels[0:1000],\n",
    "                                                   10,0.15,(56,56))\n",
    "print(\"Randomized Smoothing Adv. Accuracy: \"+ str(rand_adv_acc))"
   ]
  },
  {
   "cell_type": "code",
   "execution_count": 9,
   "id": "a6678260",
   "metadata": {
    "scrolled": false
   },
   "outputs": [
    {
     "name": "stdout",
     "output_type": "stream",
     "text": [
      "Found 60000 files belonging to 10 classes.\n",
      "Using 48000 files for training.\n",
      "Found 60000 files belonging to 10 classes.\n",
      "Using 12000 files for training.\n",
      "Found 60000 files belonging to 10 classes.\n",
      "Using 12000 files for validation.\n",
      "Found 10000 files belonging to 10 classes.\n",
      "100\n",
      "200\n",
      "300\n",
      "400\n",
      "500\n",
      "600\n",
      "700\n",
      "800\n",
      "900\n",
      "1000\n",
      "(1000, 10)\n",
      "(1000, 10)\n",
      "rs_acc: 0.974\n",
      "rs_loss: 0.19737430996268013\n",
      "32/32 [==============================] - 2s 73ms/step - loss: 0.1986 - accuracy: 0.9740\n",
      "1000\n",
      "Evaluating model robustness\n",
      "Model Adv Accuracy: 0.962\n",
      "Evaluating randomized smoothing robustness\n",
      "Randomized Smoothing Adv. Accuracy: 0.962\n"
     ]
    }
   ],
   "source": [
    "\n",
    "train_ds,x,test_ds=load_data(\"D:/MachineLearningData/MNSTP/mnist_p/Control\",(56,56),1)\n",
    "np_data,np_labels=dataSetToNpArrays(test_ds,(56,56))#names=[(\"Normal\",28),(\"ControlSmall\",56),(\"UpscaledSmall\",56),(\"Downsclaed\",14)] \n",
    "model=tf.keras.models.load_model(\"C:/Users/DSCIE/MNISTmodels/Control\")\n",
    "(a,l)=randomized_smoothing_full(model,np_data[0:1000],np_labels[0:1000],10,0.15,(56,56))\n",
    "print(\"rs_acc: \"+str(a))\n",
    "print(\"rs_loss: \"+str(l))\n",
    "model.evaluate(np_data[0:1000],np_labels[0:1000])\n",
    "r,clipped_adv,success=test_robustness(model,np_data[0:1000],np_labels[0:1000],2)\n",
    "clipped_adv_np=clipped_adv.numpy()\n",
    "print(len(clipped_adv_np))\n",
    "advsEx=get_adverserials_and_accuracy(model,clipped_adv_np,success,np_data[0:1000],np_labels[0:1000])\n",
    "rand_adv_acc=get_randomized_smoothing_adv_accuracy(model,advsEx,clipped_adv_np,np_labels[0:1000],\n",
    "                                                   10,0.15,(56,56))\n",
    "print(\"Randomized Smoothing Adv. Accuracy: \"+ str(rand_adv_acc))"
   ]
  },
  {
   "cell_type": "code",
   "execution_count": 10,
   "id": "641cd962",
   "metadata": {},
   "outputs": [
    {
     "name": "stdout",
     "output_type": "stream",
     "text": [
      "100\n",
      "200\n",
      "300\n",
      "400\n",
      "500\n",
      "600\n",
      "700\n",
      "800\n",
      "900\n",
      "1000\n",
      "(1000, 10)\n",
      "(1000, 10)\n",
      "rs_acc: 0.972\n",
      "rs_loss: 0.18473353767996922\n",
      "32/32 [==============================] - 2s 54ms/step - loss: 0.1860 - accuracy: 0.9720\n",
      "1000\n",
      "Evaluating model robustness\n",
      "Model Adv Accuracy: 0.957\n",
      "Evaluating randomized smoothing robustness\n",
      "Randomized Smoothing Adv. Accuracy: 0.957\n"
     ]
    }
   ],
   "source": [
    "\n",
    "#train_ds,x,test_ds=load_data(\"D:/MachineLearningData/MNSTP/mnist_p/Control\",(56,56),1)\n",
    "#np_data,np_labels=dataSetToNpArrays(test_ds,(56,56))#names=[(\"Normal\",28),(\"ControlSmall\",56),(\"UpscaledSmall\",56),(\"Downsclaed\",14)] \n",
    "model=tf.keras.models.load_model(\"C:/Users/DSCIE/MNISTmodels/ControlSmall\")\n",
    "(a,l)=randomized_smoothing_full(model,np_data[0:1000],np_labels[0:1000],10,0.15,(56,56))\n",
    "print(\"rs_acc: \"+str(a))\n",
    "print(\"rs_loss: \"+str(l))\n",
    "model.evaluate(np_data[0:1000],np_labels[0:1000])\n",
    "r,clipped_adv,success=test_robustness(model,np_data[0:1000],np_labels[0:1000],2)\n",
    "clipped_adv_np=clipped_adv.numpy()\n",
    "print(len(clipped_adv_np))\n",
    "advsEx=get_adverserials_and_accuracy(model,clipped_adv_np,success,np_data[0:1000],np_labels[0:1000])\n",
    "rand_adv_acc=get_randomized_smoothing_adv_accuracy(model,advsEx,clipped_adv_np,np_labels[0:1000],\n",
    "                                                   10,0.15,(56,56))\n",
    "print(\"Randomized Smoothing Adv. Accuracy: \"+ str(rand_adv_acc))"
   ]
  },
  {
   "cell_type": "code",
   "execution_count": 11,
   "id": "f2ec3482",
   "metadata": {},
   "outputs": [
    {
     "name": "stdout",
     "output_type": "stream",
     "text": [
      "Found 60000 files belonging to 10 classes.\n",
      "Using 48000 files for training.\n",
      "Found 60000 files belonging to 10 classes.\n",
      "Using 12000 files for training.\n",
      "Found 60000 files belonging to 10 classes.\n",
      "Using 12000 files for validation.\n",
      "Found 10000 files belonging to 10 classes.\n",
      "100\n",
      "200\n",
      "300\n",
      "400\n",
      "500\n",
      "600\n",
      "700\n",
      "800\n",
      "900\n",
      "1000\n",
      "(1000, 10)\n",
      "(1000, 10)\n",
      "32/32 [==============================] - 1s 35ms/step - loss: 0.1043 - accuracy: 0.9800\n",
      "rs_acc: 0.98\n",
      "rs_loss: 0.10430997809405697\n",
      "1000\n",
      "Evaluating model robustness\n",
      "Model Adv Accuracy: 0.973\n",
      "Evaluating randomized smoothing robustness\n",
      "Randomized Smoothing Adv. Accuracy: 0.973\n"
     ]
    }
   ],
   "source": [
    "\n",
    "train_ds,x,test_ds=load_data(\"D:/MachineLearningData/MNSTP/mnist_p/Normal\",(28,28),1)\n",
    "np_data,np_labels=dataSetToNpArrays(test_ds,(28,28))\n",
    "model=tf.keras.models.load_model(\"C:/Users/DSCIE/MNISTmodels/Normal\")\n",
    "(a,l)=randomized_smoothing_full(model,np_data[0:1000],np_labels[0:1000],10,0.15,(28,28))\n",
    "model.evaluate(np_data[0:1000],np_labels[0:1000])\n",
    "print(\"rs_acc: \"+str(a))\n",
    "print(\"rs_loss: \"+str(l))\n",
    "r,clipped_adv,success=test_robustness(model,np_data[0:1000],np_labels[0:1000],2)\n",
    "clipped_adv_np=clipped_adv.numpy()\n",
    "print(len(clipped_adv_np))\n",
    "advsEx=get_adverserials_and_accuracy(model,clipped_adv_np,success,np_data[0:1000],np_labels[0:1000])\n",
    "rand_adv_acc=get_randomized_smoothing_adv_accuracy(model,advsEx,clipped_adv_np,np_labels[0:1000],\n",
    "                                                   10,0.15,(28,28))\n",
    "print(\"Randomized Smoothing Adv. Accuracy: \"+ str(rand_adv_acc))"
   ]
  },
  {
   "cell_type": "code",
   "execution_count": 7,
   "id": "72f689f7",
   "metadata": {},
   "outputs": [
    {
     "name": "stdout",
     "output_type": "stream",
     "text": [
      "Found 60000 files belonging to 10 classes.\n",
      "Using 48000 files for training.\n",
      "Found 60000 files belonging to 10 classes.\n",
      "Using 12000 files for training.\n",
      "Found 60000 files belonging to 10 classes.\n",
      "Using 12000 files for validation.\n",
      "Found 10000 files belonging to 10 classes.\n",
      "100\n",
      "200\n",
      "300\n",
      "400\n",
      "500\n",
      "600\n",
      "700\n",
      "800\n",
      "900\n",
      "1000\n",
      "(1000, 10)\n",
      "(1000, 10)\n",
      "32/32 [==============================] - 1s 16ms/step - loss: 0.0892 - accuracy: 0.9820\n",
      "rs_acc: 0.982\n",
      "rs_loss: 0.08608244422106377\n",
      "WARNING:tensorflow:From C:\\Users\\DScie\\anaconda3\\lib\\site-packages\\foolbox\\models\\tensorflow.py:13: is_gpu_available (from tensorflow.python.framework.test_util) is deprecated and will be removed in a future version.\n",
      "Instructions for updating:\n",
      "Use `tf.config.list_physical_devices('GPU')` instead.\n",
      "1000\n",
      "Evaluating model robustness\n",
      "Model Adv Accuracy: 0.975\n",
      "Evaluating randomized smoothing robustness\n",
      "Randomized Smoothing Adv. Accuracy: 0.975\n"
     ]
    }
   ],
   "source": [
    "\n",
    "\n",
    "train_ds,x,test_ds=load_data(\"D:/MachineLearningData/MNSTP/mnist_p/Downscaled\",(14,14),1)\n",
    "np_data,np_labels=dataSetToNpArrays(test_ds,(14,14))\n",
    "model=tf.keras.models.load_model(\"C:/Users/DSCIE/MNISTmodels/Downscaled\")\n",
    "(a,l)=randomized_smoothing_full(model,np_data[0:1000],np_labels[0:1000],10,0.15,(14,14))\n",
    "model.evaluate(np_data[0:1000],np_labels[0:1000])\n",
    "print(\"rs_acc: \"+str(a))\n",
    "print(\"rs_loss: \"+str(l))\n",
    "r,clipped_adv,success=test_robustness(model,np_data[0:1000],np_labels[0:1000],2)\n",
    "clipped_adv_np=clipped_adv.numpy()\n",
    "print(len(clipped_adv_np))\n",
    "advsEx=get_adverserials_and_accuracy(model,clipped_adv_np,success,np_data[0:1000],np_labels[0:1000])\n",
    "rand_adv_acc=get_randomized_smoothing_adv_accuracy(model,advsEx,clipped_adv_np,np_labels[0:1000],\n",
    "                                                   10,0.15,(14,14))\n",
    "print(\"Randomized Smoothing Adv. Accuracy: \"+ str(rand_adv_acc))"
   ]
  },
  {
   "cell_type": "code",
   "execution_count": 9,
   "id": "1dee78f0",
   "metadata": {},
   "outputs": [],
   "source": [
    "\n",
    "#train_ds,x,test_ds=load_data(\"D:/MachineLearningData/MNSTP/mnist_p/Normal\",(28,28),1)\n",
    "#np_data,np_labels=dataSetToNpArrays(test_ds,(28,28))\n",
    "#model=tf.keras.models.load_model(\"C:/Users/DSCIE/MNISTmodels/Normal\")\n",
    "#r,clipped_adv,success=test_robustness(model,np_data[0:1000],np_labels[0:1000],20)\n",
    "#clipped_adv_np=clipped_adv.numpy()\n",
    "#print(len(clipped_adv_np))\n",
    "#advsEx=get_adverserials_and_accuracy(model,clipped_adv_np,success,np_data[0:1000],np_labels[0:1000])\n"
   ]
  },
  {
   "cell_type": "code",
   "execution_count": 23,
   "id": "b0d6fabf",
   "metadata": {},
   "outputs": [
    {
     "name": "stdout",
     "output_type": "stream",
     "text": [
      "1/1 [==============================] - 0s 48ms/step\n",
      "[[9.9428624e-01 2.8439751e-13 8.8787033e-07 3.1252437e-08 6.3199359e-12\n",
      "  4.5603161e-07 2.1151136e-08 3.7781976e-13 5.7076798e-03 4.6798259e-06]]\n"
     ]
    }
   ],
   "source": [
    "#clipped_adv_np=clipped_adv.numpy()\n",
    "#im = Image.fromarray(clipped_adv_np[advsEx[0]])\n",
    "#im.show()\n",
    "#p=model.predict(clipped_adv_np[advsEx[0]].reshape(-1,28,28,1))\n",
    "#print(p)\n"
   ]
  },
  {
   "cell_type": "code",
   "execution_count": 55,
   "id": "be5e3246",
   "metadata": {
    "scrolled": true
   },
   "outputs": [
    {
     "name": "stdout",
     "output_type": "stream",
     "text": [
      "1679\n",
      "failure_rate:\n",
      "0.1679\n"
     ]
    },
    {
     "data": {
      "image/png": "iVBORw0KGgoAAAANSUhEUgAAAjwAAADlCAYAAABXoS1UAAAAOXRFWHRTb2Z0d2FyZQBNYXRwbG90bGliIHZlcnNpb24zLjUuMSwgaHR0cHM6Ly9tYXRwbG90bGliLm9yZy/YYfK9AAAACXBIWXMAAAsTAAALEwEAmpwYAAAmCklEQVR4nO3de9xVU/7A8fVERSgVMiqVMChMMuWu3PKaENOYkBBCJFNJeGm8hCH3Jo3GqHHrZWKGYVASimoMCs10QapHRq4ZKop4fn/8XlbftTx7tfZ+9t5nn3U+77++u+959t5n77PPWa1rVU1NjQIAAAhZvVKfAAAAQNYo8AAAgOBR4AEAAMGjwAMAAIJHgQcAAASPAg8AAAje5q5kVVUVY9YzsvPOO3u9rrq6uiqtY3I/S6+mpiaV+8m9LL207qVS2d9P3+8b23vvvZfymRQXz2bx1fV3kxoeAAAQPGcNT9ZcpbW8/2dRynOppP9FVYKk/5tG8RTtXuZ9Pvbxyv27qmj3M4k476Hc75dLkvdGDQ8AAAgeBR4AABA8CjwAACB4Va7FQ0vZ2zyLPjVyn+XStllOI0FcitRfKwt5j7pjJEh2Sj2C0tVvJq3RVmn0ZSmX5za0Z5MRd5sW9btJDQ8AAAgeBR4AABC8kjZpZTFEMI3mrjz4nmcoTVp5K2rzZQiTmyUdqlyk5z0NRXs249wX3yZm33tWpGcsqXJ5NvN+jor6XepCkxYAAKhYFHgAAEDwKPAAAIDgFaoPT9r9b7Loz5PW8M5Q+vAUdYhkUdudy6WfQNaK1J8n6fdQVs9mFss59OjRw9geOHCgjmfNmmXkJk6cqOOtt97aa/95X/ssFPnZzHqaljT2VyT04QEAABWLAg8AAAhe5k1aaVVdf/XVVzp+9NFHjdzpp59e698kHZZpO+aYY3R8zz33eP+d63ilrjYvtTynAXA1Q+ZdfVvkavM0pNHEmdZnI+t7m9ez6Xs97Oan4cOH67hbt26Rf9e2bVtj+91339Xx5MmTjdwjjzyi41WrVuk4rWtdyhnZi/RsJr0Ort+Zhx56yMg98cQTOp49e7bX/ssFTVoAAKBiUeABAADBo8ADAACCt3kpDx5niPe1116r44YNG2Z2TrVp1qyZjm+66SYjd9lll3ntI4R20aw0btzY2O7Zs6eOL7jgAh0fddRRxuu+/fZbHSdt1y7SsNhKllafhTT2WWSu837ggQeMbdm3cfny5d7HaN++vY5PO+00I3fEEUfouH///t77RN0kfQa22247He+zzz5G7r777ou9v7TOq1TPHzU8AAAgeBR4AABA8DJv0opTdSVfu8suuxi5X/ziFzr+8MMP635iMbz66qs6Hjp0qJHbY489dCyHztvKtQo9jjjNQ3379tXx9ddfb+Sqq6tr/ZttttnG2H7jjTe8zst1HpVwX/JkX89evXrpWDZL2/eyXr2N//f6/vvvjdxf//pXHT/99NNGbuXKlTpu0KCBkZs/f76O7c9mEavbf5B0WP6DDz5obMsmLXv6kXHjxul4wYIFRq579+46djXZP/744zqWw5qVMpv+Xd+LtlJf+1JKYzoG+RwpZc6i/dOf/tTIffLJJ7H3b39XjxkzRsevvfaakctiqom6ooYHAAAEjwIPAAAIHgUeAAAQvEz68KQxdb9sR7b3ecMNNyQ7MU/2OXfp0kXHHTp0MHJbbbWVjhcvXmzkitJumaY478n1OfjVr34VmYtyyimnGNuyD09aw8uLusp6qbnue/369XV82GGHGbkBAwboWC59YPcpkf127Fzv3r11/PXXXxu51q1b6/iss84ycldeeaWOJ02aFHn+RZP0c3fiiSdG5mRfJ6XMJSLs4y1cuFDHsh+UUmY/ITnU3f6+lkPbzz77bCMnp5PARml83/z61782tlu2bKnjqqrolTN8v9c3bNhgbMvvZLsPTxFRwwMAAIJHgQcAAAQvlSattGY7lTPs2quST58+Xcfjx4/3PobvsV1OOOGE2PuHeY2HDBli5OTs1W3atDFysqpcruTcp08f43XHHnusjmfOnGnkxo4dq+NvvvnG6xwrQRbNrPvtt5+OR44cGfm6du3a6Xjw4MFGzjV0ecWKFZGve+mllyL/zjV9RRGHzNaVnLrDJp8VpZRavXq1jl3v324K/O6773Ts6log93nOOecYOfndvnTpUq99bEo5PsdJ35/r7+yh5uedd17s/btMmDDB2B4xYoTXeRUFNTwAACB4FHgAAEDwKPAAAIDgVdlDQI1kVVV0UkhrmvY5c+bouHnz5kZODnf96KOPIo/vu3prnPOSSx3Y73X//ffX8dy5c7336aumpiZ6LGFMvvczKdf0/XfddZeRk0OU//3vfxu53XbbTcdy6Q5bVF8fpZTq2rWrjn37cuQhrfuZxr1M2ofAXhbi+eef17H93K5fv17HV1xxhY7nzZuX6Nj2s7/DDjvo+MILLzRy8jPnmrYg6ZQGWT2bSe+L3b9CDgffbLPNjJycBiDO97d8rXzGHn74YeN1rtXZTz31VB2//PLLka+zZb0cSN7PZlrvR/423nbbbUZOLgXh+n3yPd4hhxxibMs+dIceeqj3PrP+3o26l9TwAACA4FHgAQAAwUtlWHrS6ik5g7FSZlX5kiVLjJysyo5TPR3F9bpbb73V2JbVv/Z5/e9///M6XijiVP936tRJx3YziKwK7devX+Q+jjrqKB0/9dRTRk42Y9nnMXz4cB3bK/yuWrUq8nhFXkU7bb7Nv/b2oEGDjNx2222n4y+++MLIDRs2TMfvvPOO17FtsllTNmHZpkyZEplzNc0Une+1WrRoUWTOboqQTU7nnnuukTvttNN0LFdct8npAuxV1e3mRal///46/uCDD4ycbzNI0hnfXfsskji/cXLW+jVr1hi5xx57LPLvkrBn85afuVatWhm5LLqX1BU1PAAAIHgUeAAAQPAo8AAAgOBlslq6i2y7GzNmjJGTK4/bw5h9JW0PrFdvY9nPXupATqdu9wfxXfk3rdW8Sy3OUMOGDRvq2J7+4Pbbb9exq2357bffrjVWSqmOHTtG7l8uQeBaWqKc+nKkIen7PfPMM3V88sknGznZb+Dyyy83crLfju952J8ju++WdN999+nYNRR6U8coF67vEddq1fvss4+xvcUWW+jYXg5EXseHHnooyWka7CkjZJ+hxYsXG7lnn31Wx//5z3+8j+HqE1Iu99rVT0du27lu3brp+JZbbkl0vKhjKWX2oevVq5eRk7/hf/nLXyL3U5Q+dNTwAACA4FHgAQAAwctktXRXFWLjxo11vGHDhsjXPfnkk85j+OTiDLuVKw3LYbZKmbPHylllN6XSmktsckZVu1pbrrQ8YMAAr/3JJiylzKr3qipzYk05g+vChQu99o9ockZx+17+61//0rHrWvs2LQwcONDY3mWXXXS8bNkyIzdq1KjI/ZTjcGSl4p2bfI8zZswwcldeeaWO7e+tFi1a6Nie6Xzvvff2Pr4PV1OjPTOwZA+lnz17ttfxyrX7gOvzKrtcyGH9SpnfffPnz4/ch6tZyXWN5NQBu+66q5GTv+FJfqNry2V5v6jhAQAAwaPAAwAAgpf5KC27ukqODnAtRJbHuUhyFIpt/Pjxkbmks3+WE9/3ZVdFXnTRRTq2R3v8/Oc/17G9QKicrfekk07S8dKlS43Xffnllzpu2rSpkZPNZA888ICRs2cjrVRxRk7Yz2pd9ymr6JUyZ+YdO3Zs5P5XrlxpbMvPRKU/f/brJk2aFPla2fQoZ1ZWSqk+ffrouFmzZkZONv37sptAfc2aNcvYlrPa2+e8YMGCyP2US9Om61zkKLsjjzzSyMnvS3sW+SQLa9vk96x9T7KQ5SzM1PAAAIDgUeABAADBo8ADAACCl/tMy6tXr9bxJ598YuTslZaltNvy7FWXDzjgAB3bwyhlu2WcmYalUPsXSPZ7lEPDXff27rvvNrbtWZN/sG7dOmN76NChOrZn45X7uPjii42cHBJvK9UqvnlJ2udM9vlo2bKlkevatauOP/vsM6/9vfXWW8b2gQceGPlaORT9ueee89q/UmHeP1sa79Ge0TjODMc/2HLLLY1t+fztvvvuRk4OnR42bJiRO/vss3XcqFGjyOPZw9kPPvhgHdv9WFxK+b0c597JazZz5kwjt9dee+m4Z8+eRk72cUtjBmp7Nu9bb71Vx3E+N3n0BaoNNTwAACB4FHgAAEDwqqKaD5RSqqqqKjopJK0WtJsaevfureNXX33VyL3yyis69q0Os2fmlUPP7QVCXe/h+OOP17E9A7RLGs0jNTU1VZt+lR/f++mS9F7bQymHDBmi4yZNmhg5+ZmUQ5Rl9al9LvairqeffrqOv//+eyMnp0awF3/NeghrWvczjXvpYl8H2WQxePBgIyeHKtvfJ+3atdOxbJqS/66UOSxdzqyslPm9YA+P33zz6Fb5rJu08no2s252sWeW//jjj3VsTx+Q9TVt1aqVju0ZoOWwdNu0adN0fP7553sfT17b6urqXJ/NODMMy9fK7y+llNp+++11bDcfXn311TpesmSJkfv6669rPZZ9z+X357bbbmvkWrduHXnO8+bN0/Ejjzxi5NJYlNYl6tmkhgcAAASPAg8AAAgeBR4AABC8VPrwJLXVVlsZ29dcc42O7eF19vIDkr2C8g8+/fRTY1u+V7vd2u43EHVsezitSyh9eNJ4H3Z7tezTY/enkn2vfvvb3+rYXonbdV5jxozRsd3n5LrrrtPxyJEjvfdZpPuZ9bMZh3x25KrqNnn/5HT1Sik1btw4Hdt97+QUEocddpiRs6e2kELpw+MrTv+zfffdV8f2UGM5lPnOO+80co8//nhdTnGT5yV16NDB2JZ9QuQK3kqZy1fYfyc/d65rVOo+PFmzh/nL/m8tWrTQsVz2xyb72ill9uHp3r27kZsxY0aS00ylHyV9eAAAQMWiwAMAAIJX0mHpLp06dTK2XU1Os2fPrvXf5VB22wsvvGBsd+vWTcd2E5nr2ElXEvdVtGpzl6yraONcw4MOOkjHUZ8PpX78OXvjjTciX5tlVWtcWTSBZNEE5PuZkLPH2qtry9wZZ5wRuY+8Z1Yu+rPpuvYyN2HCBCNnD22WTjnlFB1Pnjw50bGTWr9+vY7nzJlj5OR3tGySU0qp9u3bR+6zqMPS03o2074PkyZNMrblNBGymVQp9zQCSdGkBQAAsAkUeAAAQPAo8AAAgOClslp6FquEv/76685tH65j2+28sg+PTS59YK/6nXT16VAU5T3b5yHb+EePHm3kRowYoeNBgwYZuXPPPdfreK4h65t6bVHEeQ9ps/vpuNxxxx06dp1zHn2SiizO/ZPL89hTM9jPi2T3ncmTa/kRSa4srlRxvqNsrs9nnM9u1v1IXR599FEd29ddKso9oIYHAAAEjwIPAAAIXklnWrb5zmSbtHpM7rN///5GbuLEiZF/V1W1cYRbnKaLIs3Mq1SxZudNg+/nYM2aNca2HKZurzy855576njdunV1OLvaFXlYupRFlbpkD4XedddddbxixQojZ8+uXBRFezbj3AfX/ZXfhfb35IYNG3Qspws47rjjjNfJZyfOeXXu3FnH9957r5Fr3LixjpcvXx65D3tqiZNOOinytaUclu6SRxNQ1GfA1TQsh6ErZX5WXNMZuI4R57eeYekAAACbQIEHAAAEjwIPAAAIXirD0pPynfpcKbPtLu/htL77L8rQu3KX9nXceuutje1p06bpuFevXkbuxRdf1HG/fv2M3Ndff63jLNqd85bWdPW+10KuYi1XZ7ZNmTIl0XlVurQ+Z7fccouO7WdArrB95JFH6lg+G1lx9dtp2LChjq+55hrvfYb2bCaV9Dt3t91207H8bChl9veKc2zXb31dUcMDAACCR4EHAAAEr6RNWmnxne1Y5o466qhcjw1/vsMlffdh/93999+vY9nMopQ5PFpW1yplziRayfc6aZPyV199peNtttnGyMmZl+3pAEo5k2wlWrhwoY7r169v5Lp3765juXL63nvvbbzuJz/5SernJWd5fuaZZ4ycPOdVq1Z577OSn2Nf8hrJZ1gppaqrq3XcsmVLI+ea8kbK87mlhgcAAASPAg8AAAgeBR4AABC8Qi0tkQbfNlnZ9mj75S9/aWw/9thjkfvPuv2xaNPXl4uk/T7k0Fd7iYO+ffsmOhd5jCItLZEF13Xv0qWLjm+66SYj17RpUx3vu+++iY6ddx+ecno201pGJIq8t0op9eabb+r4vvvuM3IzZszQsd1f6+2339bx3LlzjVzr1q11vGTJkkTn6boORVpaopRc18geei7vUaNGjYyc3QcyShbPLUtLAACAikWBBwAABC+IYelRVXCuqrI//OEPxvarr76qY9mEFWefKI4kUxUopdT06dN1fNBBBxk5Ody1WbNmXseuBL7Nh3LW3nbt2hm5sWPHJjp2pV3rLKQxNPvDDz80tuVM2pdddpn3flz3M2kzlmv/DEv/Mdc1Wrp0qZE744wzdHzwwQc791ME1PAAAIDgUeABAADBo8ADAACC5xyW3qZNG6/hdUVsqwtFmkNfuZ8/5ppmYObMmUbukksu0fEbb7yR6HghDEtP2u9h4MCBOu7Tp4+Ru/zyy3X88MMPex+7lJ/VchqW7pJGP5ak9yHpseMcTx7D9XchPJtJ+V6jcsGwdAAAULEo8AAAgOA5h6WXe9VW0tW1kx6j6Ner6OdXF1k0dRx++OF13keIkl7bqVOn6rh9+/ZG7pVXXkl07KxnEEa0vJux0t4HNsri9y+P5sq4qOEBAADBo8ADAACCR4EHAAAEL7jV0rOQdOXtNIQy9LWo8ugLkMVq6eU4xUApn6MsMGVE3eXRz9JXFsPSizSNQpFk3feOYekAAKBiUeABAADBczZpAQAAhIAaHgAAEDwKPAAAIHgUeAAAQPAo8AAAgOBR4AEAAMGjwAMAAIJHgQcAAASPAg8AAAgeBR4AABA8CjwAACB4FHgAAEDwKPAAAIDgUeABAADBo8ADAACCR4EHAAAEjwIPAAAIHgUeAAAQPAo8AAAgeBR4AABA8CjwAACA4FHgAQAAwaPAAwAAgre5K1lVVVWT14lUmp133tnrddXV1VVpHZP7mQ/XvU3rfnIvs8OzWZlqamrK8tmUn9f33nsvz0MXVtS9pIYHAAAEz1nDkwXf/z3FUe6l2nI/f/C/rFBxL8OSxe9P3vJ+D0mPl/Wzk+S8qOEBAADBo8ADAACCR4EHAAAEL/c+PLJdL622yKj+E3H2n0Z7Y97HQzGF0E+gXGTdv8DeP8+tH9d9yfsahv48uq5n2u89zr3Lol9jXd8PNTwAACB4FHgAAEDwqmpqoudIynoCpVIOUU9aVZ33Oac1GZZS/vezHIch2scu6jDxcp3cLDS+n/GiPZullsb3XxbftWk846E/myeffLKxPXr0aB3fddddOr755pszP5esmzyZeBAAAFQsCjwAACB4FHgAAEDwCtuHx9WO17ZtW2P7+++/9/q7rGXRvyevBQpDH7qZRBafpdD7CfjKe9hyFv3Sit6Hx9WPLevnPe/+fPTh+X+u+3rxxRcb271799ZxVdXGt/7RRx8Zr7vmmmt0vGDBAu9z8R0un+f3LDU8AAAgeBR4AABA8HJv0kpalXr11VfreO3atUZu0aJFOn7qqad0nMXsjnGqhnfYYQcdv/baa95/J4+RVbU5TVjxUW1eXrIeQl30Ji0prec96nokbaLM+rziKJdnM+k169y5s7F900036XjzzTcuumCXCdq1a6fjY4891si98847Ot6wYUPkseP8bjIsHQAAoA4o8AAAgOBR4AEAAMEr6WrpNle73rx583Q8fPhwI/fdd9/pWPbhyUKc9tP9999fxwceeKCRGzt2bGrnlIZSLguRtSz6EFTyKtrl2P9riy22MLa7du2q4913393IjRw5MpdzSpvrMxnnGbjtttt0LL/DlDK/h5cvX67jPn36GK+TyxbIv1FKqVmzZum4Xj3z/9xyihH4kfc2zmegW7duOh48eLCOly1bZrxObsslKJQyPyt33nlnjLMuDWp4AABA8CjwAACA4GXepJXW8LMVK1bU+dhZD488+uijje2hQ4fquEGDBkZONmnl1UTgOo7vzJf2PuQMnWeeeaaRk9Xhs2fPNnLr1q3TcZMmTYzcOeeco2PXtAnS22+/HZmbPn26sT1u3Dgd5zFkthyV43uXM8cqpdTixYt1LD9TSinVokULHV966aVGrhzfe218v3uPPPJII3fiiSfqWDb9KaXU+vXrdSxX1X766aeN1/Xv31/HY8aMiTyP6upqY7tv3746TvKdXwni/G66vtcvueQSHb///vs6XrJkifG6XXfdVcdyKLtS5u/Y1ltvbeRuvPHGyPMqVRcAangAAEDwKPAAAIDgUeABAADBy6QPT9KVUF3D6yZNmqTjzz77rA5nF//YvuT03EqZ/XYaNWpk5IrWT8C3L8tOO+1k5OQ0AKtXrzZysv/N3nvvHbl/2Z9HKaU++eQTHb/11ls6tocPS02bNjW2Zf8hu2+VHDIr+yDZKmmoua1I710+Oy+88IKRk58d+zMgp7o/44wzjFzHjh11vHLlSu9zKdJ1icM1tf/ZZ59t5D744AMdz507N3Kf559/fqJzGTZsmI7vv/9+IyePV7TvyHLgus+u6zl58uTIfUhffPGFsf3HP/5RxzfccIORa9++vY4HDBgQuc+sl5mQqOEBAADBo8ADAACCl0mTVtJqKFm11aFDByMnh7zZTVpy5s40zsNVLejK2U0nbdq00fHFF1/sfW5Fq8qV5yqbFpVSqlmzZrXGSpkzsdpGjRqlY/t+PvHEE7X+TZyqT3kuribQAw44wNh++eWXI4/nO3NtuXC9v6SfQdd1ad68uY7tqQiOOeYYHV944YVGztUcet111+l4/PjxRk42cW2//fZGbs6cOZH7lMrpPiddkXrNmjVGTq6Anda5SHI4dNJ9FO07Mm1pPX9pPNPS3XffbWxfcMEFOu7UqZOR69Gjh47l0HallPrmm2+8jpf2jPbU8AAAgOBR4AEAAMGjwAMAAIKXSh+eLNpT7VVz7SnIpbVr19b5eGm0mXbv3j3ydXFWks2j30CcY9xxxx06PuSQQ7z/7tlnn9XxeeedZ+Tatm2rY/teJ7kXrr+x+yjI/mD2kPjQ+wZkQQ5rlsupKGUO+7ennvf1wAMP6Fj22VHKXFLEvndffvllrfGmlFO/HSnpZ9deWkKuiF3Ufmzleo+ykHY/nTj7OPXUU3Usl3JRypwWwl6uolTfs9TwAACA4FHgAQAAwct8tfSkVY/33HNPZE7OxKuUUgsXLkx0jChxhnfKlZbtYdlXXXWV1/Hyqt7zvRf27Kf9+vWLfK1sqrPfr5yV036PdjNWXdnvbdttt9Wxverynnvumeqxy1Va0zbUq7fx/032syibtLp06aLj559/3njd8OHDdTxv3jzvc0k6S6vvM5f2sNiikLPC169f38jZUwZISWfR99mfLZRrnQZXs5XvZzmLYf6ySSstWd53angAAEDwKPAAAIDgUeABAADBK9TSEiNHjtSxvUyDZC/TkIak5+xawTvOEO4isVekPvzww3Xct29fIyeX9bDbgV19AbJ2/fXX69juszNlyhQdr1q1KnIfofchSNpu36BBA2P7ySef1LFc3V6pHy9FkuV5pbWfUKYmcH1+5ZDhm2++2cidcMIJOraX5LD7T/7A1ddp0KBBRk5OV2F/XkK59nXlundx+pimcTzJnl7klFNO0bG9lJBruphSfbdSwwMAAIJHgQcAAATPu0kr6Yybruo2exi3XEHbnllZVpf94x//8D5G1nbYYQev1xWhqtZ3COif//xnI/fcc89ldk6bOpekevbsGZn7+9//nuqxylWc57ZDhw46PuKII4ycfDZnzJgRuZ+0Z4S1JV0tPBRJv4ft1dG32GILHdvf0XPnzvU6F3m8zp07Gzk5VYHdpBW1D6XCvGdJuO7l73//e2O7V69eka8dMWKEjj///HMd27PPyybO/fffP3J/ixYtMrbl73mcZzHtqQ8kangAAEDwKPAAAIDgeTdppTUra8eOHXX8zDPPeO/ntttu03Hes6TKv7OreF1VhhMmTIg8dimauNKYrdNWhKY6pZS64YYbjO02bdroWI4kU0qpqVOn6phq841c93KvvfbS8YEHHmjk5MgNe4FQ3+tZyde91LbaaqvInGzeiuPkk0/W8R577GHk5CKTPH+1S/q9ajc57rPPPjpu166dkRs9enSt+1i2bFnk/uWiz0op9ac//UnHEydONHIffPCB81x/kOdvCDU8AAAgeBR4AABA8CjwAACA4FXV1NREJ6uqdDJpO5vdJitnaV2/fr2Rk0PRH3vsMSM3ZswYHbtW2vYd+hqnrVju52c/+5mRe/zxxyP/Tr7Xb7/91mv/turq6qrIZEzyfmYh7/48H330kY7toZTS8ccfb2zPnz9fx0k/Bzbf/dTU1KRyP7O4l77DQV9//XVjWz4T9pD1d999N/Z5xBleXco+H2ndS6XSuZ9pfd/J17Zu3drIyVnLZV8cm+wn16NHDyPXqlUrHW+22WZe55GHvJ/NPKZmkH1m7SHlcpZkOb1Kp06dIvcvp/RQSqlLLrkkyWl6S/oZiLqX1PAAAIDgUeABAADBS2XxUFe1kz0k8cUXX4x87ZIlS3Q8ZMgQIyer/+RMnUr9eFZmn/NykUOalVLK1ewn3XHHHcZ20masSpP0Pu27776ROTmNgVzcEhu5PoN2rn379jr+5z//aeTkVA12U7ScwfXcc8/VsT27r+95Mmw5mThNgYMHD9axfT/l7Lz9+/eP3IfdXSEK99NP0lnKv/zySx0///zzRk5uN27cWMd2s/RvfvMbHe+0005GTjZPzpkzx/u8pDybqanhAQAAwaPAAwAAgkeBBwAABC+VYemuNjd7ZfPjjjtOx3bfmxUrVuhYtv0rZS4PYA9lPP/882s9tt3XZ968eTp2Db07/fTTI489duxYIzdo0CAdT58+3cgdffTROk7aZ6echqW7uNppfa+N/Tl78803ddykSRMjZ0+BnkScexbCsHTJ9d7ff/9979deccUVOm7evLmOhw4daryuHPtyFG1Yui2NfoLXX3+9sS2/G++++24d169f33jd6tWrdSz7BCll9vv473//W+dzTEsIw9KTks/fdtttZ+Rkv1t7qRG5dIW97FLU/vPAsHQAAFCxKPAAAIDgZb5a+o477uj9Wjmrpz3Dp6w6c7GHlEstWrTQccOGDY3c008/reMHH3zQyMkVaLfffvvI/Y8fP97YTmt26nIVZ9hzlHr1NpbJDzvsMCPn+kysXbtWx66ZuZcvX25s9+zZ0+u8Kpl9Pe1rKC1dulTHJ510ko7tz3haswQjXf369TO2ZVcD+V177bXXGq+76qqrIvd5yCGH6Nie4sAlhM9B0uZ7STYlKmU2ObmmffE9r/3228/Iya4hdjcReS8XLlzotX+lSncvqeEBAADBo8ADAACCR4EHAAAEL5WlJVxGjRplbNvDuiXZridXwlZKqTVr1uhYthsqZU6R/dprr0Xu/5VXXtHxlltuaeQ+/fRTHdvD3uXQ886dOxu5VatW6fhvf/ubkXNNiV+kIYmlZl8bufr2uHHjdHzQQQd577NRo0Zer0s6fD2E/gR5uPHGG71ex/VMXxbX9JZbbvE6lnxu5fOMaK771aVLFx0PGDDAyE2cONFrH7bu3bvrWK56Lv9dKXPZiTiK+ExTwwMAAIJHgQcAAATPu0kr6ayzCxYsMHLDhg2L/LuVK1fqWDYVKaXUV1995X18H3KWXpv9XuXwS3vYu5xJ1lbEKr08JX3/U6ZM0fG6det07Br+LF+nlDnr9ZAhQ4zchg0bIvfj2wxZlGGWpZB01my7qtx3/1HHgr+sr2mc3wfXrPlSpd1r13ePnOF62bJlRs71fSaHkZ911llG7p577qn1eK4mLHvKlqlTp+q4HLppUMMDAACCR4EHAAAEjwIPAAAIXiqrpZda1m3QcjmJ+fPnG7lvv/020f7zXl1bqdKulm5zXe8RI0boWF5vezqCjh076rhr165G7ptvvqnrKf5IGv0girxaehbP+JIlS3TcoEGDOh+7SP06KvHZ9HXRRRfpuE+fPkZOPt+upSVcfeiy+Bzk8Wwm/ZzLJVpqOZ6OXb/nLnK5mEsvvdTIyf6QRVoR3YXV0gEAQMWiwAMAAIKX+UzLcaq5Stls5jrPpFV1RW4GzEPS9z969Ggdn3jiiTo+9NBDjdctXrxYxzvuuGPk/tKa5bpIVbal5LoOt99+u7Fdv359HctZrV1TDCBfWXxPtWrVSscff/yxkXv99ddTP165cD078j7ssssuRm7atGk6PuaYY7yP98477+jYnrpDriCwYsUKr/3JFQ/KETU8AAAgeBR4AABA8CjwAACA4Hn34cmj/4LvFPW+8pj+vxyH0xaB772W7f/2kMs0VvFlGYPaufo92SvMH3744TqWfa6UUuqll16K3GfSc0G6spjW495779Xx+PHjjVyHDh10PHfu3NTPpVy53vvvfve7WuM4+0hDuS+pQw0PAAAIHgUeAAAQvEyGpafRzJNGVVkew8nLrUqvVJJep4MPPjgyZ1eHJ8H92yjp8/jCCy/ouGHDhkbu6quv1rGczZWmxLDY9+ycc87RsT0bvRxi3bx588THKHdZTAeQxj7TmkqmiPeLGh4AABA8CjwAACB4FHgAAEDwMunDU8S2uzjK/fyLwnca9aRmzZrldawQZTEdQtLVqGfOnKnj6667zshlsWo98pP0OW3ZsqWOP//8cyO3du3aWmP4KeX0Ki7l8B1MDQ8AAAgeBR4AABC8Knv2WiNZVRWdRC5qamqq0tpXmzZtvO5n3lWmruPttddeOr7iiiuM3IQJE3Q8Y8aM5CeXo7TuZxb3MothsmkoalV5ms9muXzXhjyzfN7Ppi3va1aJ95IaHgAAEDwKPAAAIHgUeAAAQPCcfXhK2ecD/y+UPjxJJe1XUqT3IGXRT8C1snla1yHtfYawfEulP5u+yuVeF7l/HeKhDw8AAKhYFHgAAEDwnE1aAAAAIaCGBwAABI8CDwAACB4FHgAAEDwKPAAAIHgUeAAAQPAo8AAAgOD9HyYmzWi4UETjAAAAAElFTkSuQmCC\n",
      "text/plain": [
       "<Figure size 720x288 with 10 Axes>"
      ]
     },
     "metadata": {
      "needs_background": "light"
     },
     "output_type": "display_data"
    }
   ],
   "source": [
    "fig, axes = plt.subplots(2, 5, figsize=(10, 4))\n",
    "advsEx=[]\n",
    "axes = axes.ravel()\n",
    "for a,i in enumerate(success):\n",
    "    if(i==True):\n",
    "        advsEx.append(a)\n",
    "print(len(advsEx))\n",
    "for i, ax in enumerate(axes):\n",
    "    ax.imshow(clipped_advs[i], cmap='gray')\n",
    "    ax.axis('off')\n",
    "failure_rate=len(advsEx)/float( len(success))\n",
    "print(\"failure_rate:\")\n",
    "print(failure_rate)\n",
    "\n"
   ]
  },
  {
   "cell_type": "code",
   "execution_count": 57,
   "id": "6164f2a4",
   "metadata": {
    "scrolled": true
   },
   "outputs": [
    {
     "data": {
      "image/png": "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\n",
      "text/plain": [
       "<Figure size 720x288 with 10 Axes>"
      ]
     },
     "metadata": {
      "needs_background": "light"
     },
     "output_type": "display_data"
    }
   ],
   "source": [
    "fig2, axes2 = plt.subplots(2, 5, figsize=(10, 4))\n",
    "axes2 = axes2.ravel()\n",
    "for i, ax in enumerate(axes2):\n",
    "    ax.imshow(images[advsEx[i]], cmap='gray')\n",
    "    ax.axis('off')\n"
   ]
  },
  {
   "cell_type": "code",
   "execution_count": 23,
   "id": "c72475b1",
   "metadata": {
    "scrolled": true
   },
   "outputs": [
    {
     "ename": "OSError",
     "evalue": "[WinError 182] Das Betriebssystem kann %1 nicht ausführen. Error loading \"C:\\Users\\DScie\\anaconda3\\lib\\site-packages\\torch\\lib\\shm.dll\" or one of its dependencies.",
     "output_type": "error",
     "traceback": [
      "\u001b[1;31m---------------------------------------------------------------------------\u001b[0m",
      "\u001b[1;31mOSError\u001b[0m                                   Traceback (most recent call last)",
      "\u001b[1;32m~\\AppData\\Local\\Temp\\ipykernel_6648\\3718872737.py\u001b[0m in \u001b[0;36m<module>\u001b[1;34m\u001b[0m\n\u001b[0;32m      3\u001b[0m \u001b[1;32mfrom\u001b[0m \u001b[0mkeras\u001b[0m\u001b[1;33m.\u001b[0m\u001b[0mutils\u001b[0m\u001b[1;33m.\u001b[0m\u001b[0mvis_utils\u001b[0m \u001b[1;32mimport\u001b[0m \u001b[0mplot_model\u001b[0m\u001b[1;33m\u001b[0m\u001b[1;33m\u001b[0m\u001b[0m\n\u001b[0;32m      4\u001b[0m \u001b[0mmodel\u001b[0m\u001b[1;33m=\u001b[0m\u001b[0mtf\u001b[0m\u001b[1;33m.\u001b[0m\u001b[0mkeras\u001b[0m\u001b[1;33m.\u001b[0m\u001b[0mmodels\u001b[0m\u001b[1;33m.\u001b[0m\u001b[0mload_model\u001b[0m\u001b[1;33m(\u001b[0m\u001b[1;34m\"C:/Users/DSCIE/MNISTmodels/Normal\"\u001b[0m\u001b[1;33m)\u001b[0m\u001b[1;33m\u001b[0m\u001b[1;33m\u001b[0m\u001b[0m\n\u001b[1;32m----> 5\u001b[1;33m \u001b[1;32mfrom\u001b[0m \u001b[0mart\u001b[0m\u001b[1;33m.\u001b[0m\u001b[0mclassifiers\u001b[0m \u001b[1;32mimport\u001b[0m \u001b[0mTensorFlowV2Classifier\u001b[0m\u001b[1;33m\u001b[0m\u001b[1;33m\u001b[0m\u001b[0m\n\u001b[0m\u001b[0;32m      6\u001b[0m \u001b[1;32mfrom\u001b[0m \u001b[0mart\u001b[0m\u001b[1;33m.\u001b[0m\u001b[0mattacks\u001b[0m \u001b[1;32mimport\u001b[0m \u001b[0mFastGradientMethod\u001b[0m\u001b[1;33m\u001b[0m\u001b[1;33m\u001b[0m\u001b[0m\n\u001b[0;32m      7\u001b[0m \u001b[1;33m\u001b[0m\u001b[0m\n",
      "\u001b[1;32m~\\anaconda3\\lib\\site-packages\\art\\__init__.py\u001b[0m in \u001b[0;36m<module>\u001b[1;34m\u001b[0m\n\u001b[0;32m      5\u001b[0m \u001b[1;33m\u001b[0m\u001b[0m\n\u001b[0;32m      6\u001b[0m \u001b[1;31m# Project Imports\u001b[0m\u001b[1;33m\u001b[0m\u001b[1;33m\u001b[0m\u001b[0m\n\u001b[1;32m----> 7\u001b[1;33m \u001b[1;32mfrom\u001b[0m \u001b[0mart\u001b[0m \u001b[1;32mimport\u001b[0m \u001b[0mattacks\u001b[0m\u001b[1;33m\u001b[0m\u001b[1;33m\u001b[0m\u001b[0m\n\u001b[0m\u001b[0;32m      8\u001b[0m \u001b[1;32mfrom\u001b[0m \u001b[0mart\u001b[0m \u001b[1;32mimport\u001b[0m \u001b[0mdefences\u001b[0m\u001b[1;33m\u001b[0m\u001b[1;33m\u001b[0m\u001b[0m\n\u001b[0;32m      9\u001b[0m \u001b[1;32mfrom\u001b[0m \u001b[0mart\u001b[0m \u001b[1;32mimport\u001b[0m \u001b[0mestimators\u001b[0m\u001b[1;33m\u001b[0m\u001b[1;33m\u001b[0m\u001b[0m\n",
      "\u001b[1;32m~\\anaconda3\\lib\\site-packages\\art\\attacks\\__init__.py\u001b[0m in \u001b[0;36m<module>\u001b[1;34m\u001b[0m\n\u001b[0;32m      6\u001b[0m \u001b[1;32mfrom\u001b[0m \u001b[0mart\u001b[0m\u001b[1;33m.\u001b[0m\u001b[0mattacks\u001b[0m\u001b[1;33m.\u001b[0m\u001b[0mattack\u001b[0m \u001b[1;32mimport\u001b[0m \u001b[0mReconstructionAttack\u001b[0m\u001b[1;33m\u001b[0m\u001b[1;33m\u001b[0m\u001b[0m\n\u001b[0;32m      7\u001b[0m \u001b[1;33m\u001b[0m\u001b[0m\n\u001b[1;32m----> 8\u001b[1;33m \u001b[1;32mfrom\u001b[0m \u001b[0mart\u001b[0m\u001b[1;33m.\u001b[0m\u001b[0mattacks\u001b[0m \u001b[1;32mimport\u001b[0m \u001b[0mevasion\u001b[0m\u001b[1;33m\u001b[0m\u001b[1;33m\u001b[0m\u001b[0m\n\u001b[0m\u001b[0;32m      9\u001b[0m \u001b[1;32mfrom\u001b[0m \u001b[0mart\u001b[0m\u001b[1;33m.\u001b[0m\u001b[0mattacks\u001b[0m \u001b[1;32mimport\u001b[0m \u001b[0mextraction\u001b[0m\u001b[1;33m\u001b[0m\u001b[1;33m\u001b[0m\u001b[0m\n\u001b[0;32m     10\u001b[0m \u001b[1;32mfrom\u001b[0m \u001b[0mart\u001b[0m\u001b[1;33m.\u001b[0m\u001b[0mattacks\u001b[0m \u001b[1;32mimport\u001b[0m \u001b[0minference\u001b[0m\u001b[1;33m\u001b[0m\u001b[1;33m\u001b[0m\u001b[0m\n",
      "\u001b[1;32m~\\anaconda3\\lib\\site-packages\\art\\attacks\\evasion\\__init__.py\u001b[0m in \u001b[0;36m<module>\u001b[1;34m\u001b[0m\n\u001b[0;32m      9\u001b[0m \u001b[1;32mfrom\u001b[0m \u001b[0mart\u001b[0m\u001b[1;33m.\u001b[0m\u001b[0mattacks\u001b[0m\u001b[1;33m.\u001b[0m\u001b[0mevasion\u001b[0m\u001b[1;33m.\u001b[0m\u001b[0madversarial_patch\u001b[0m\u001b[1;33m.\u001b[0m\u001b[0madversarial_patch_tensorflow\u001b[0m \u001b[1;32mimport\u001b[0m \u001b[0mAdversarialPatchTensorFlowV2\u001b[0m\u001b[1;33m\u001b[0m\u001b[1;33m\u001b[0m\u001b[0m\n\u001b[0;32m     10\u001b[0m \u001b[1;32mfrom\u001b[0m \u001b[0mart\u001b[0m\u001b[1;33m.\u001b[0m\u001b[0mattacks\u001b[0m\u001b[1;33m.\u001b[0m\u001b[0mevasion\u001b[0m\u001b[1;33m.\u001b[0m\u001b[0madversarial_patch\u001b[0m\u001b[1;33m.\u001b[0m\u001b[0madversarial_patch_pytorch\u001b[0m \u001b[1;32mimport\u001b[0m \u001b[0mAdversarialPatchPyTorch\u001b[0m\u001b[1;33m\u001b[0m\u001b[1;33m\u001b[0m\u001b[0m\n\u001b[1;32m---> 11\u001b[1;33m \u001b[1;32mfrom\u001b[0m \u001b[0mart\u001b[0m\u001b[1;33m.\u001b[0m\u001b[0mattacks\u001b[0m\u001b[1;33m.\u001b[0m\u001b[0mevasion\u001b[0m\u001b[1;33m.\u001b[0m\u001b[0madversarial_texture\u001b[0m\u001b[1;33m.\u001b[0m\u001b[0madversarial_texture_pytorch\u001b[0m \u001b[1;32mimport\u001b[0m \u001b[0mAdversarialTexturePyTorch\u001b[0m\u001b[1;33m\u001b[0m\u001b[1;33m\u001b[0m\u001b[0m\n\u001b[0m\u001b[0;32m     12\u001b[0m \u001b[1;32mfrom\u001b[0m \u001b[0mart\u001b[0m\u001b[1;33m.\u001b[0m\u001b[0mattacks\u001b[0m\u001b[1;33m.\u001b[0m\u001b[0mevasion\u001b[0m\u001b[1;33m.\u001b[0m\u001b[0madversarial_asr\u001b[0m \u001b[1;32mimport\u001b[0m \u001b[0mCarliniWagnerASR\u001b[0m\u001b[1;33m\u001b[0m\u001b[1;33m\u001b[0m\u001b[0m\n\u001b[0;32m     13\u001b[0m \u001b[1;32mfrom\u001b[0m \u001b[0mart\u001b[0m\u001b[1;33m.\u001b[0m\u001b[0mattacks\u001b[0m\u001b[1;33m.\u001b[0m\u001b[0mevasion\u001b[0m\u001b[1;33m.\u001b[0m\u001b[0mauto_attack\u001b[0m \u001b[1;32mimport\u001b[0m \u001b[0mAutoAttack\u001b[0m\u001b[1;33m\u001b[0m\u001b[1;33m\u001b[0m\u001b[0m\n",
      "\u001b[1;32m~\\anaconda3\\lib\\site-packages\\art\\attacks\\evasion\\adversarial_texture\\adversarial_texture_pytorch.py\u001b[0m in \u001b[0;36m<module>\u001b[1;34m\u001b[0m\n\u001b[0;32m     29\u001b[0m \u001b[1;32mfrom\u001b[0m \u001b[0mart\u001b[0m\u001b[1;33m.\u001b[0m\u001b[0mattacks\u001b[0m\u001b[1;33m.\u001b[0m\u001b[0mattack\u001b[0m \u001b[1;32mimport\u001b[0m \u001b[0mEvasionAttack\u001b[0m\u001b[1;33m\u001b[0m\u001b[1;33m\u001b[0m\u001b[0m\n\u001b[0;32m     30\u001b[0m \u001b[1;32mfrom\u001b[0m \u001b[0mart\u001b[0m\u001b[1;33m.\u001b[0m\u001b[0mestimators\u001b[0m\u001b[1;33m.\u001b[0m\u001b[0mestimator\u001b[0m \u001b[1;32mimport\u001b[0m \u001b[0mBaseEstimator\u001b[0m\u001b[1;33m,\u001b[0m \u001b[0mLossGradientsMixin\u001b[0m\u001b[1;33m\u001b[0m\u001b[1;33m\u001b[0m\u001b[0m\n\u001b[1;32m---> 31\u001b[1;33m \u001b[1;32mfrom\u001b[0m \u001b[0mart\u001b[0m\u001b[1;33m.\u001b[0m\u001b[0mestimators\u001b[0m\u001b[1;33m.\u001b[0m\u001b[0mobject_tracking\u001b[0m\u001b[1;33m.\u001b[0m\u001b[0mobject_tracker\u001b[0m \u001b[1;32mimport\u001b[0m \u001b[0mObjectTrackerMixin\u001b[0m\u001b[1;33m\u001b[0m\u001b[1;33m\u001b[0m\u001b[0m\n\u001b[0m\u001b[0;32m     32\u001b[0m \u001b[1;32mfrom\u001b[0m \u001b[0mart\u001b[0m\u001b[1;33m.\u001b[0m\u001b[0msummary_writer\u001b[0m \u001b[1;32mimport\u001b[0m \u001b[0mSummaryWriter\u001b[0m\u001b[1;33m\u001b[0m\u001b[1;33m\u001b[0m\u001b[0m\n\u001b[0;32m     33\u001b[0m \u001b[1;33m\u001b[0m\u001b[0m\n",
      "\u001b[1;32m~\\anaconda3\\lib\\site-packages\\art\\estimators\\__init__.py\u001b[0m in \u001b[0;36m<module>\u001b[1;34m\u001b[0m\n\u001b[0;32m     15\u001b[0m \u001b[1;32mfrom\u001b[0m \u001b[0mart\u001b[0m\u001b[1;33m.\u001b[0m\u001b[0mestimators\u001b[0m\u001b[1;33m.\u001b[0m\u001b[0mtensorflow\u001b[0m \u001b[1;32mimport\u001b[0m \u001b[0mTensorFlowEstimator\u001b[0m\u001b[1;33m,\u001b[0m \u001b[0mTensorFlowV2Estimator\u001b[0m\u001b[1;33m\u001b[0m\u001b[1;33m\u001b[0m\u001b[0m\n\u001b[0;32m     16\u001b[0m \u001b[1;33m\u001b[0m\u001b[0m\n\u001b[1;32m---> 17\u001b[1;33m \u001b[1;32mfrom\u001b[0m \u001b[0mart\u001b[0m\u001b[1;33m.\u001b[0m\u001b[0mestimators\u001b[0m \u001b[1;32mimport\u001b[0m \u001b[0mcertification\u001b[0m\u001b[1;33m\u001b[0m\u001b[1;33m\u001b[0m\u001b[0m\n\u001b[0m\u001b[0;32m     18\u001b[0m \u001b[1;32mfrom\u001b[0m \u001b[0mart\u001b[0m\u001b[1;33m.\u001b[0m\u001b[0mestimators\u001b[0m \u001b[1;32mimport\u001b[0m \u001b[0mclassification\u001b[0m\u001b[1;33m\u001b[0m\u001b[1;33m\u001b[0m\u001b[0m\n\u001b[0;32m     19\u001b[0m \u001b[1;32mfrom\u001b[0m \u001b[0mart\u001b[0m\u001b[1;33m.\u001b[0m\u001b[0mestimators\u001b[0m \u001b[1;32mimport\u001b[0m \u001b[0mencoding\u001b[0m\u001b[1;33m\u001b[0m\u001b[1;33m\u001b[0m\u001b[0m\n",
      "\u001b[1;32m~\\anaconda3\\lib\\site-packages\\art\\estimators\\certification\\__init__.py\u001b[0m in \u001b[0;36m<module>\u001b[1;34m\u001b[0m\n\u001b[0;32m      7\u001b[0m \u001b[1;33m\u001b[0m\u001b[0m\n\u001b[0;32m      8\u001b[0m \u001b[1;32mif\u001b[0m \u001b[0mimportlib\u001b[0m\u001b[1;33m.\u001b[0m\u001b[0mutil\u001b[0m\u001b[1;33m.\u001b[0m\u001b[0mfind_spec\u001b[0m\u001b[1;33m(\u001b[0m\u001b[1;34m\"torch\"\u001b[0m\u001b[1;33m)\u001b[0m \u001b[1;32mis\u001b[0m \u001b[1;32mnot\u001b[0m \u001b[1;32mNone\u001b[0m\u001b[1;33m:\u001b[0m\u001b[1;33m\u001b[0m\u001b[1;33m\u001b[0m\u001b[0m\n\u001b[1;32m----> 9\u001b[1;33m     \u001b[1;32mfrom\u001b[0m \u001b[0mart\u001b[0m\u001b[1;33m.\u001b[0m\u001b[0mestimators\u001b[0m\u001b[1;33m.\u001b[0m\u001b[0mcertification\u001b[0m \u001b[1;32mimport\u001b[0m \u001b[0mdeep_z\u001b[0m\u001b[1;33m\u001b[0m\u001b[1;33m\u001b[0m\u001b[0m\n\u001b[0m\u001b[0;32m     10\u001b[0m     \u001b[1;32mfrom\u001b[0m \u001b[0mart\u001b[0m\u001b[1;33m.\u001b[0m\u001b[0mestimators\u001b[0m\u001b[1;33m.\u001b[0m\u001b[0mcertification\u001b[0m \u001b[1;32mimport\u001b[0m \u001b[0minterval\u001b[0m\u001b[1;33m\u001b[0m\u001b[1;33m\u001b[0m\u001b[0m\n\u001b[0;32m     11\u001b[0m \u001b[1;32melse\u001b[0m\u001b[1;33m:\u001b[0m\u001b[1;33m\u001b[0m\u001b[1;33m\u001b[0m\u001b[0m\n",
      "\u001b[1;32m~\\anaconda3\\lib\\site-packages\\art\\estimators\\certification\\deep_z\\__init__.py\u001b[0m in \u001b[0;36m<module>\u001b[1;34m\u001b[0m\n\u001b[0;32m      2\u001b[0m \u001b[0mDeepZ\u001b[0m \u001b[0mbased\u001b[0m \u001b[0mcertification\u001b[0m \u001b[0mestimators\u001b[0m\u001b[1;33m.\u001b[0m\u001b[1;33m\u001b[0m\u001b[1;33m\u001b[0m\u001b[0m\n\u001b[0;32m      3\u001b[0m \"\"\"\n\u001b[1;32m----> 4\u001b[1;33m \u001b[1;32mfrom\u001b[0m \u001b[0mart\u001b[0m\u001b[1;33m.\u001b[0m\u001b[0mestimators\u001b[0m\u001b[1;33m.\u001b[0m\u001b[0mcertification\u001b[0m\u001b[1;33m.\u001b[0m\u001b[0mdeep_z\u001b[0m\u001b[1;33m.\u001b[0m\u001b[0mdeep_z\u001b[0m \u001b[1;32mimport\u001b[0m \u001b[0mZonoDenseLayer\u001b[0m\u001b[1;33m\u001b[0m\u001b[1;33m\u001b[0m\u001b[0m\n\u001b[0m\u001b[0;32m      5\u001b[0m \u001b[1;32mfrom\u001b[0m \u001b[0mart\u001b[0m\u001b[1;33m.\u001b[0m\u001b[0mestimators\u001b[0m\u001b[1;33m.\u001b[0m\u001b[0mcertification\u001b[0m\u001b[1;33m.\u001b[0m\u001b[0mdeep_z\u001b[0m\u001b[1;33m.\u001b[0m\u001b[0mdeep_z\u001b[0m \u001b[1;32mimport\u001b[0m \u001b[0mZonoBounds\u001b[0m\u001b[1;33m\u001b[0m\u001b[1;33m\u001b[0m\u001b[0m\n\u001b[0;32m      6\u001b[0m \u001b[1;32mfrom\u001b[0m \u001b[0mart\u001b[0m\u001b[1;33m.\u001b[0m\u001b[0mestimators\u001b[0m\u001b[1;33m.\u001b[0m\u001b[0mcertification\u001b[0m\u001b[1;33m.\u001b[0m\u001b[0mdeep_z\u001b[0m\u001b[1;33m.\u001b[0m\u001b[0mdeep_z\u001b[0m \u001b[1;32mimport\u001b[0m \u001b[0mZonoConv\u001b[0m\u001b[1;33m\u001b[0m\u001b[1;33m\u001b[0m\u001b[0m\n",
      "\u001b[1;32m~\\anaconda3\\lib\\site-packages\\art\\estimators\\certification\\deep_z\\deep_z.py\u001b[0m in \u001b[0;36m<module>\u001b[1;34m\u001b[0m\n\u001b[0;32m     24\u001b[0m \u001b[1;33m\u001b[0m\u001b[0m\n\u001b[0;32m     25\u001b[0m \u001b[1;32mimport\u001b[0m \u001b[0mnumpy\u001b[0m \u001b[1;32mas\u001b[0m \u001b[0mnp\u001b[0m\u001b[1;33m\u001b[0m\u001b[1;33m\u001b[0m\u001b[0m\n\u001b[1;32m---> 26\u001b[1;33m \u001b[1;32mimport\u001b[0m \u001b[0mtorch\u001b[0m\u001b[1;33m\u001b[0m\u001b[1;33m\u001b[0m\u001b[0m\n\u001b[0m\u001b[0;32m     27\u001b[0m \u001b[1;33m\u001b[0m\u001b[0m\n\u001b[0;32m     28\u001b[0m \u001b[1;33m\u001b[0m\u001b[0m\n",
      "\u001b[1;32m~\\anaconda3\\lib\\site-packages\\torch\\__init__.py\u001b[0m in \u001b[0;36m<module>\u001b[1;34m\u001b[0m\n\u001b[0;32m    126\u001b[0m                 \u001b[0merr\u001b[0m \u001b[1;33m=\u001b[0m \u001b[0mctypes\u001b[0m\u001b[1;33m.\u001b[0m\u001b[0mWinError\u001b[0m\u001b[1;33m(\u001b[0m\u001b[0mlast_error\u001b[0m\u001b[1;33m)\u001b[0m\u001b[1;33m\u001b[0m\u001b[1;33m\u001b[0m\u001b[0m\n\u001b[0;32m    127\u001b[0m                 \u001b[0merr\u001b[0m\u001b[1;33m.\u001b[0m\u001b[0mstrerror\u001b[0m \u001b[1;33m+=\u001b[0m \u001b[1;34mf' Error loading \"{dll}\" or one of its dependencies.'\u001b[0m\u001b[1;33m\u001b[0m\u001b[1;33m\u001b[0m\u001b[0m\n\u001b[1;32m--> 128\u001b[1;33m                 \u001b[1;32mraise\u001b[0m \u001b[0merr\u001b[0m\u001b[1;33m\u001b[0m\u001b[1;33m\u001b[0m\u001b[0m\n\u001b[0m\u001b[0;32m    129\u001b[0m             \u001b[1;32melif\u001b[0m \u001b[0mres\u001b[0m \u001b[1;32mis\u001b[0m \u001b[1;32mnot\u001b[0m \u001b[1;32mNone\u001b[0m\u001b[1;33m:\u001b[0m\u001b[1;33m\u001b[0m\u001b[1;33m\u001b[0m\u001b[0m\n\u001b[0;32m    130\u001b[0m                 \u001b[0mis_loaded\u001b[0m \u001b[1;33m=\u001b[0m \u001b[1;32mTrue\u001b[0m\u001b[1;33m\u001b[0m\u001b[1;33m\u001b[0m\u001b[0m\n",
      "\u001b[1;31mOSError\u001b[0m: [WinError 182] Das Betriebssystem kann %1 nicht ausführen. Error loading \"C:\\Users\\DScie\\anaconda3\\lib\\site-packages\\torch\\lib\\shm.dll\" or one of its dependencies."
     ]
    }
   ],
   "source": []
  }
 ],
 "metadata": {
  "kernelspec": {
   "display_name": "Python 3 (ipykernel)",
   "language": "python",
   "name": "python3"
  },
  "language_info": {
   "codemirror_mode": {
    "name": "ipython",
    "version": 3
   },
   "file_extension": ".py",
   "mimetype": "text/x-python",
   "name": "python",
   "nbconvert_exporter": "python",
   "pygments_lexer": "ipython3",
   "version": "3.9.13"
  }
 },
 "nbformat": 4,
 "nbformat_minor": 5
}
